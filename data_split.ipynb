{
 "cells": [
  {
   "cell_type": "code",
   "execution_count": null,
   "id": "4fcd1633",
   "metadata": {},
   "outputs": [],
   "source": [
    "import random\n",
    "import shutil\n",
    "\n",
    "from pathlib import Path\n"
   ]
  },
  {
   "cell_type": "code",
   "execution_count": null,
   "id": "2b616365",
   "metadata": {},
   "outputs": [
    {
     "data": {
      "text/plain": [
       "[PosixPath('data/database/VS_L01_C'),\n",
       " PosixPath('data/database/VS_L02_C'),\n",
       " PosixPath('data/database/VS_L03_C'),\n",
       " PosixPath('data/database/VS_L04_C'),\n",
       " PosixPath('data/database/VS_L05_C'),\n",
       " PosixPath('data/database/VS_L06_C'),\n",
       " PosixPath('data/database/VS_L07_C'),\n",
       " PosixPath('data/database/VS_L08_C'),\n",
       " PosixPath('data/database/VS_L09_C'),\n",
       " PosixPath('data/database/VS_L10_C')]"
      ]
     },
     "execution_count": 2,
     "metadata": {},
     "output_type": "execute_result"
    }
   ],
   "source": [
    "folders = list(Path('./data/database/').glob(\"*_C\"))\n",
    "folders\n"
   ]
  },
  {
   "cell_type": "code",
   "execution_count": null,
   "id": "16fe7444",
   "metadata": {},
   "outputs": [
    {
     "name": "stdout",
     "output_type": "stream",
     "text": [
      "data/2_valid/VS_L01_C\n",
      "data/2_valid/VS_L02_C\n",
      "data/2_valid/VS_L03_C\n",
      "data/2_valid/VS_L04_C\n",
      "data/2_valid/VS_L05_C\n",
      "data/2_valid/VS_L06_C\n",
      "data/2_valid/VS_L07_C\n",
      "data/2_valid/VS_L08_C\n",
      "data/2_valid/VS_L09_C\n",
      "data/2_valid/VS_L10_C\n"
     ]
    }
   ],
   "source": [
    "for folder in folders:\n",
    "    dst_dir = Path(\"./data/2_valid\", folder.name)\n",
    "    print(dst_dir)\n",
    "    dst_dir.mkdir(parents=True, exist_ok=True)\n",
    "\n",
    "    files = list(folder.glob('*.jpg'))\n",
    "    samples = random.sample(files, 200)\n",
    "    for file in samples:\n",
    "        shutil.copy(file, dst_dir/file.name)\n"
   ]
  },
  {
   "cell_type": "code",
   "execution_count": null,
   "id": "a8578c24",
   "metadata": {},
   "outputs": [],
   "source": []
  }
 ],
 "metadata": {
  "kernelspec": {
   "display_name": "jih_icicic",
   "language": "python",
   "name": "python3"
  },
  "language_info": {
   "codemirror_mode": {
    "name": "ipython",
    "version": 3
   },
   "file_extension": ".py",
   "mimetype": "text/x-python",
   "name": "python",
   "nbconvert_exporter": "python",
   "pygments_lexer": "ipython3",
   "version": "3.11.11"
  }
 },
 "nbformat": 4,
 "nbformat_minor": 5
}
